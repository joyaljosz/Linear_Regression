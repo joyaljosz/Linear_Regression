{
 "cells": [
  {
   "cell_type": "code",
   "execution_count": 1,
   "id": "1ad1c774",
   "metadata": {
    "_cell_guid": "b1076dfc-b9ad-4769-8c92-a6c4dae69d19",
    "_uuid": "8f2839f25d086af736a60e9eeb907d3b93b6e0e5",
    "execution": {
     "iopub.execute_input": "2023-04-06T07:55:17.855401Z",
     "iopub.status.busy": "2023-04-06T07:55:17.854521Z",
     "iopub.status.idle": "2023-04-06T07:55:17.872557Z",
     "shell.execute_reply": "2023-04-06T07:55:17.870942Z"
    },
    "papermill": {
     "duration": 0.030127,
     "end_time": "2023-04-06T07:55:17.875428",
     "exception": false,
     "start_time": "2023-04-06T07:55:17.845301",
     "status": "completed"
    },
    "tags": []
   },
   "outputs": [
    {
     "name": "stdout",
     "output_type": "stream",
     "text": [
      "/kaggle/input/moore/moore.csv\n"
     ]
    }
   ],
   "source": [
    "# This Python 3 environment comes with many helpful analytics libraries installed\n",
    "# It is defined by the kaggle/python Docker image: https://github.com/kaggle/docker-python\n",
    "# For example, here's several helpful packages to load\n",
    "\n",
    "import numpy as np # linear algebra\n",
    "import pandas as pd # data processing, CSV file I/O (e.g. pd.read_csv)\n",
    "\n",
    "# Input data files are available in the read-only \"../input/\" directory\n",
    "# For example, running this (by clicking run or pressing Shift+Enter) will list all files under the input directory\n",
    "\n",
    "import os\n",
    "for dirname, _, filenames in os.walk('/kaggle/input'):\n",
    "    for filename in filenames:\n",
    "        print(os.path.join(dirname, filename))\n",
    "\n",
    "# You can write up to 20GB to the current directory (/kaggle/working/) that gets preserved as output when you create a version using \"Save & Run All\" \n",
    "# You can also write temporary files to /kaggle/temp/, but they won't be saved outside of the current session"
   ]
  },
  {
   "cell_type": "code",
   "execution_count": 2,
   "id": "7ef94f53",
   "metadata": {
    "execution": {
     "iopub.execute_input": "2023-04-06T07:55:17.890305Z",
     "iopub.status.busy": "2023-04-06T07:55:17.889347Z",
     "iopub.status.idle": "2023-04-06T07:55:28.121965Z",
     "shell.execute_reply": "2023-04-06T07:55:28.120450Z"
    },
    "papermill": {
     "duration": 10.243697,
     "end_time": "2023-04-06T07:55:28.125357",
     "exception": false,
     "start_time": "2023-04-06T07:55:17.881660",
     "status": "completed"
    },
    "tags": []
   },
   "outputs": [],
   "source": [
    "import tensorflow as tf\n",
    "from tensorflow import keras\n",
    "import numpy as np\n",
    "import pandas as pd\n",
    "import matplotlib.pyplot as plt"
   ]
  },
  {
   "cell_type": "code",
   "execution_count": 3,
   "id": "f416cbdd",
   "metadata": {
    "execution": {
     "iopub.execute_input": "2023-04-06T07:55:28.140432Z",
     "iopub.status.busy": "2023-04-06T07:55:28.138864Z",
     "iopub.status.idle": "2023-04-06T07:55:28.159244Z",
     "shell.execute_reply": "2023-04-06T07:55:28.157501Z"
    },
    "papermill": {
     "duration": 0.031191,
     "end_time": "2023-04-06T07:55:28.162598",
     "exception": false,
     "start_time": "2023-04-06T07:55:28.131407",
     "status": "completed"
    },
    "tags": []
   },
   "outputs": [],
   "source": [
    "data=pd.read_csv('/kaggle/input/moore/moore.csv')"
   ]
  },
  {
   "cell_type": "code",
   "execution_count": 4,
   "id": "72455cbd",
   "metadata": {
    "execution": {
     "iopub.execute_input": "2023-04-06T07:55:28.176445Z",
     "iopub.status.busy": "2023-04-06T07:55:28.175910Z",
     "iopub.status.idle": "2023-04-06T07:55:28.206174Z",
     "shell.execute_reply": "2023-04-06T07:55:28.205110Z"
    },
    "papermill": {
     "duration": 0.040226,
     "end_time": "2023-04-06T07:55:28.208757",
     "exception": false,
     "start_time": "2023-04-06T07:55:28.168531",
     "status": "completed"
    },
    "tags": []
   },
   "outputs": [
    {
     "data": {
      "text/html": [
       "<div>\n",
       "<style scoped>\n",
       "    .dataframe tbody tr th:only-of-type {\n",
       "        vertical-align: middle;\n",
       "    }\n",
       "\n",
       "    .dataframe tbody tr th {\n",
       "        vertical-align: top;\n",
       "    }\n",
       "\n",
       "    .dataframe thead th {\n",
       "        text-align: right;\n",
       "    }\n",
       "</style>\n",
       "<table border=\"1\" class=\"dataframe\">\n",
       "  <thead>\n",
       "    <tr style=\"text-align: right;\">\n",
       "      <th></th>\n",
       "      <th>1971</th>\n",
       "      <th>2300</th>\n",
       "    </tr>\n",
       "  </thead>\n",
       "  <tbody>\n",
       "    <tr>\n",
       "      <th>0</th>\n",
       "      <td>1972</td>\n",
       "      <td>3500</td>\n",
       "    </tr>\n",
       "    <tr>\n",
       "      <th>1</th>\n",
       "      <td>1973</td>\n",
       "      <td>2500</td>\n",
       "    </tr>\n",
       "    <tr>\n",
       "      <th>2</th>\n",
       "      <td>1973</td>\n",
       "      <td>2500</td>\n",
       "    </tr>\n",
       "    <tr>\n",
       "      <th>3</th>\n",
       "      <td>1974</td>\n",
       "      <td>4100</td>\n",
       "    </tr>\n",
       "    <tr>\n",
       "      <th>4</th>\n",
       "      <td>1974</td>\n",
       "      <td>4500</td>\n",
       "    </tr>\n",
       "  </tbody>\n",
       "</table>\n",
       "</div>"
      ],
      "text/plain": [
       "   1971  2300\n",
       "0  1972  3500\n",
       "1  1973  2500\n",
       "2  1973  2500\n",
       "3  1974  4100\n",
       "4  1974  4500"
      ]
     },
     "execution_count": 4,
     "metadata": {},
     "output_type": "execute_result"
    }
   ],
   "source": [
    "data.head()"
   ]
  },
  {
   "cell_type": "code",
   "execution_count": 5,
   "id": "4904c8da",
   "metadata": {
    "execution": {
     "iopub.execute_input": "2023-04-06T07:55:28.223990Z",
     "iopub.status.busy": "2023-04-06T07:55:28.222665Z",
     "iopub.status.idle": "2023-04-06T07:55:28.233505Z",
     "shell.execute_reply": "2023-04-06T07:55:28.232267Z"
    },
    "papermill": {
     "duration": 0.021185,
     "end_time": "2023-04-06T07:55:28.236230",
     "exception": false,
     "start_time": "2023-04-06T07:55:28.215045",
     "status": "completed"
    },
    "tags": []
   },
   "outputs": [
    {
     "data": {
      "text/plain": [
       "1971    0\n",
       "2300    0\n",
       "dtype: int64"
      ]
     },
     "execution_count": 5,
     "metadata": {},
     "output_type": "execute_result"
    }
   ],
   "source": [
    "data.isnull().sum()"
   ]
  },
  {
   "cell_type": "code",
   "execution_count": 6,
   "id": "98cc2104",
   "metadata": {
    "execution": {
     "iopub.execute_input": "2023-04-06T07:55:28.250630Z",
     "iopub.status.busy": "2023-04-06T07:55:28.249720Z",
     "iopub.status.idle": "2023-04-06T07:55:28.280532Z",
     "shell.execute_reply": "2023-04-06T07:55:28.279046Z"
    },
    "papermill": {
     "duration": 0.041086,
     "end_time": "2023-04-06T07:55:28.283356",
     "exception": false,
     "start_time": "2023-04-06T07:55:28.242270",
     "status": "completed"
    },
    "tags": []
   },
   "outputs": [
    {
     "name": "stdout",
     "output_type": "stream",
     "text": [
      "<class 'pandas.core.frame.DataFrame'>\n",
      "RangeIndex: 161 entries, 0 to 160\n",
      "Data columns (total 2 columns):\n",
      " #   Column  Non-Null Count  Dtype\n",
      "---  ------  --------------  -----\n",
      " 0   1971    161 non-null    int64\n",
      " 1   2300    161 non-null    int64\n",
      "dtypes: int64(2)\n",
      "memory usage: 2.6 KB\n"
     ]
    }
   ],
   "source": [
    "data.info()"
   ]
  },
  {
   "cell_type": "code",
   "execution_count": 7,
   "id": "34d46025",
   "metadata": {
    "execution": {
     "iopub.execute_input": "2023-04-06T07:55:28.298972Z",
     "iopub.status.busy": "2023-04-06T07:55:28.297978Z",
     "iopub.status.idle": "2023-04-06T07:55:28.304294Z",
     "shell.execute_reply": "2023-04-06T07:55:28.303299Z"
    },
    "papermill": {
     "duration": 0.017239,
     "end_time": "2023-04-06T07:55:28.306866",
     "exception": false,
     "start_time": "2023-04-06T07:55:28.289627",
     "status": "completed"
    },
    "tags": []
   },
   "outputs": [],
   "source": [
    "x=data.values[:,0].reshape(-1,1)\n",
    "y=data.values[:,-1]"
   ]
  },
  {
   "cell_type": "code",
   "execution_count": 8,
   "id": "6d465ea8",
   "metadata": {
    "execution": {
     "iopub.execute_input": "2023-04-06T07:55:28.322533Z",
     "iopub.status.busy": "2023-04-06T07:55:28.321539Z",
     "iopub.status.idle": "2023-04-06T07:55:28.330201Z",
     "shell.execute_reply": "2023-04-06T07:55:28.328688Z"
    },
    "papermill": {
     "duration": 0.019758,
     "end_time": "2023-04-06T07:55:28.332953",
     "exception": false,
     "start_time": "2023-04-06T07:55:28.313195",
     "status": "completed"
    },
    "tags": []
   },
   "outputs": [
    {
     "data": {
      "text/plain": [
       "(161, 161)"
      ]
     },
     "execution_count": 8,
     "metadata": {},
     "output_type": "execute_result"
    }
   ],
   "source": [
    "x.size,y.size"
   ]
  },
  {
   "cell_type": "code",
   "execution_count": 9,
   "id": "003da5a9",
   "metadata": {
    "execution": {
     "iopub.execute_input": "2023-04-06T07:55:28.348303Z",
     "iopub.status.busy": "2023-04-06T07:55:28.347821Z",
     "iopub.status.idle": "2023-04-06T07:55:28.621451Z",
     "shell.execute_reply": "2023-04-06T07:55:28.619977Z"
    },
    "papermill": {
     "duration": 0.285495,
     "end_time": "2023-04-06T07:55:28.624953",
     "exception": false,
     "start_time": "2023-04-06T07:55:28.339458",
     "status": "completed"
    },
    "tags": []
   },
   "outputs": [
    {
     "data": {
      "text/plain": [
       "<matplotlib.collections.PathCollection at 0x7824edcdd790>"
      ]
     },
     "execution_count": 9,
     "metadata": {},
     "output_type": "execute_result"
    },
    {
     "data": {
      "image/png": "[encoded data removed]",
      "text/plain": [
       "<Figure size 640x480 with 1 Axes>"
      ]
     },
     "metadata": {},
     "output_type": "display_data"
    }
   ],
   "source": [
    "plt.scatter(x,y)"
   ]
  },
  {
   "cell_type": "markdown",
   "id": "eb76e6db",
   "metadata": {
    "papermill": {
     "duration": 0.00707,
     "end_time": "2023-04-06T07:55:28.640310",
     "exception": false,
     "start_time": "2023-04-06T07:55:28.633240",
     "status": "completed"
    },
    "tags": []
   },
   "source": [
    "Converting exponential graph into linear"
   ]
  },
  {
   "cell_type": "code",
   "execution_count": 10,
   "id": "145e8be7",
   "metadata": {
    "execution": {
     "iopub.execute_input": "2023-04-06T07:55:28.658418Z",
     "iopub.status.busy": "2023-04-06T07:55:28.657431Z",
     "iopub.status.idle": "2023-04-06T07:55:28.898707Z",
     "shell.execute_reply": "2023-04-06T07:55:28.897585Z"
    },
    "papermill": {
     "duration": 0.254728,
     "end_time": "2023-04-06T07:55:28.901974",
     "exception": false,
     "start_time": "2023-04-06T07:55:28.647246",
     "status": "completed"
    },
    "tags": []
   },
   "outputs": [
    {
     "data": {
      "text/plain": [
       "<matplotlib.collections.PathCollection at 0x7824e43a6350>"
      ]
     },
     "execution_count": 10,
     "metadata": {},
     "output_type": "execute_result"
    },
    {
     "data": {
      "image/png": "[encoded data removed]",
      "text/plain": [
       "<Figure size 640x480 with 1 Axes>"
      ]
     },
     "metadata": {},
     "output_type": "display_data"
    }
   ],
   "source": [
    "y=np.log(y)\n",
    "plt.scatter(x,y)"
   ]
  },
  {
   "cell_type": "markdown",
   "id": "9344f60a",
   "metadata": {
    "papermill": {
     "duration": 0.007142,
     "end_time": "2023-04-06T07:55:28.916901",
     "exception": false,
     "start_time": "2023-04-06T07:55:28.909759",
     "status": "completed"
    },
    "tags": []
   },
   "source": [
    "Shrinking x value inorder to get better result\n"
   ]
  },
  {
   "cell_type": "code",
   "execution_count": 11,
   "id": "4ca680c3",
   "metadata": {
    "execution": {
     "iopub.execute_input": "2023-04-06T07:55:28.935400Z",
     "iopub.status.busy": "2023-04-06T07:55:28.934415Z",
     "iopub.status.idle": "2023-04-06T07:55:28.939920Z",
     "shell.execute_reply": "2023-04-06T07:55:28.938781Z"
    },
    "papermill": {
     "duration": 0.018428,
     "end_time": "2023-04-06T07:55:28.942767",
     "exception": false,
     "start_time": "2023-04-06T07:55:28.924339",
     "status": "completed"
    },
    "tags": []
   },
   "outputs": [],
   "source": [
    "x=x-x.mean()"
   ]
  },
  {
   "cell_type": "code",
   "execution_count": 12,
   "id": "3bbdf519",
   "metadata": {
    "execution": {
     "iopub.execute_input": "2023-04-06T07:55:28.960603Z",
     "iopub.status.busy": "2023-04-06T07:55:28.959320Z",
     "iopub.status.idle": "2023-04-06T07:55:28.970844Z",
     "shell.execute_reply": "2023-04-06T07:55:28.969344Z"
    },
    "papermill": {
     "duration": 0.022974,
     "end_time": "2023-04-06T07:55:28.973311",
     "exception": false,
     "start_time": "2023-04-06T07:55:28.950337",
     "status": "completed"
    },
    "tags": []
   },
   "outputs": [
    {
     "data": {
      "text/plain": [
       "array([[-30.39130435],\n",
       "       [-29.39130435],\n",
       "       [-29.39130435],\n",
       "       [-28.39130435],\n",
       "       [-28.39130435],\n",
       "       [-28.39130435],\n",
       "       [-27.39130435],\n",
       "       [-26.39130435],\n",
       "       [-26.39130435],\n",
       "       [-26.39130435],\n",
       "       [-24.39130435],\n",
       "       [-24.39130435],\n",
       "       [-23.39130435],\n",
       "       [-23.39130435],\n",
       "       [-23.39130435],\n",
       "       [-21.39130435],\n",
       "       [-20.39130435],\n",
       "       [-20.39130435],\n",
       "       [-19.39130435],\n",
       "       [-18.39130435],\n",
       "       [-18.39130435],\n",
       "       [-17.39130435],\n",
       "       [-17.39130435],\n",
       "       [-17.39130435],\n",
       "       [-16.39130435],\n",
       "       [-16.39130435],\n",
       "       [-16.39130435],\n",
       "       [-15.39130435],\n",
       "       [-15.39130435],\n",
       "       [-15.39130435],\n",
       "       [-15.39130435],\n",
       "       [-14.39130435],\n",
       "       [-14.39130435],\n",
       "       [-13.39130435],\n",
       "       [-13.39130435],\n",
       "       [-13.39130435],\n",
       "       [-13.39130435],\n",
       "       [-12.39130435],\n",
       "       [-11.39130435],\n",
       "       [-11.39130435],\n",
       "       [-10.39130435],\n",
       "       [-10.39130435],\n",
       "       [ -9.39130435],\n",
       "       [ -9.39130435],\n",
       "       [ -8.39130435],\n",
       "       [ -8.39130435],\n",
       "       [ -7.39130435],\n",
       "       [ -3.39130435],\n",
       "       [ -7.39130435],\n",
       "       [ -6.39130435],\n",
       "       [ -5.39130435],\n",
       "       [ -5.39130435],\n",
       "       [ -5.39130435],\n",
       "       [ -4.39130435],\n",
       "       [ -3.39130435],\n",
       "       [ -3.39130435],\n",
       "       [ -2.39130435],\n",
       "       [ -2.39130435],\n",
       "       [ -3.39130435],\n",
       "       [ -3.39130435],\n",
       "       [ -3.39130435],\n",
       "       [ -2.39130435],\n",
       "       [ -1.39130435],\n",
       "       [ -1.39130435],\n",
       "       [ -0.39130435],\n",
       "       [  1.60869565],\n",
       "       [  1.60869565],\n",
       "       [  2.60869565],\n",
       "       [  3.60869565],\n",
       "       [  2.60869565],\n",
       "       [  3.60869565],\n",
       "       [  4.60869565],\n",
       "       [  5.60869565],\n",
       "       [  0.60869565],\n",
       "       [  0.60869565],\n",
       "       [ -0.39130435],\n",
       "       [  2.60869565],\n",
       "       [  2.60869565],\n",
       "       [  3.60869565],\n",
       "       [  4.60869565],\n",
       "       [  0.60869565],\n",
       "       [  5.60869565],\n",
       "       [  6.60869565],\n",
       "       [  8.60869565],\n",
       "       [  9.60869565],\n",
       "       [  4.60869565],\n",
       "       [  4.60869565],\n",
       "       [  5.60869565],\n",
       "       [  1.60869565],\n",
       "       [  4.60869565],\n",
       "       [  5.60869565],\n",
       "       [  5.60869565],\n",
       "       [  4.60869565],\n",
       "       [  6.60869565],\n",
       "       [  7.60869565],\n",
       "       [  9.60869565],\n",
       "       [ 10.60869565],\n",
       "       [  8.60869565],\n",
       "       [  7.60869565],\n",
       "       [  7.60869565],\n",
       "       [  9.60869565],\n",
       "       [  9.60869565],\n",
       "       [  7.60869565],\n",
       "       [  9.60869565],\n",
       "       [ 11.60869565],\n",
       "       [  3.60869565],\n",
       "       [ 12.60869565],\n",
       "       [ 10.60869565],\n",
       "       [ 12.60869565],\n",
       "       [  5.60869565],\n",
       "       [  7.60869565],\n",
       "       [ 11.60869565],\n",
       "       [ 12.60869565],\n",
       "       [ 12.60869565],\n",
       "       [  9.60869565],\n",
       "       [  8.60869565],\n",
       "       [  7.60869565],\n",
       "       [ 11.60869565],\n",
       "       [  8.60869565],\n",
       "       [  9.60869565],\n",
       "       [ 11.60869565],\n",
       "       [ 13.60869565],\n",
       "       [ 14.60869565],\n",
       "       [ 14.60869565],\n",
       "       [ 15.60869565],\n",
       "       [  9.60869565],\n",
       "       [ 13.60869565],\n",
       "       [ 13.60869565],\n",
       "       [ 12.60869565],\n",
       "       [ 10.60869565],\n",
       "       [ 14.60869565],\n",
       "       [ 11.60869565],\n",
       "       [ 14.60869565],\n",
       "       [ 14.60869565],\n",
       "       [ 14.60869565],\n",
       "       [  9.60869565],\n",
       "       [ 10.60869565],\n",
       "       [ 11.60869565],\n",
       "       [ 14.60869565],\n",
       "       [ 15.60869565],\n",
       "       [ 13.60869565],\n",
       "       [ 15.60869565],\n",
       "       [ 14.60869565],\n",
       "       [ 15.60869565],\n",
       "       [ 14.60869565],\n",
       "       [ 12.60869565],\n",
       "       [ 14.60869565],\n",
       "       [ 13.60869565],\n",
       "       [ 14.60869565],\n",
       "       [ 13.60869565],\n",
       "       [ 14.60869565],\n",
       "       [ 14.60869565],\n",
       "       [ 12.60869565],\n",
       "       [ 14.60869565],\n",
       "       [ 15.60869565],\n",
       "       [ 14.60869565],\n",
       "       [ 14.60869565],\n",
       "       [ 14.60869565],\n",
       "       [ 15.60869565],\n",
       "       [ 15.60869565],\n",
       "       [ 15.60869565]])"
      ]
     },
     "execution_count": 12,
     "metadata": {},
     "output_type": "execute_result"
    }
   ],
   "source": [
    "x"
   ]
  },
  {
   "cell_type": "code",
   "execution_count": 13,
   "id": "ee8128ce",
   "metadata": {
    "execution": {
     "iopub.execute_input": "2023-04-06T07:55:28.991747Z",
     "iopub.status.busy": "2023-04-06T07:55:28.990391Z",
     "iopub.status.idle": "2023-04-06T07:55:29.179940Z",
     "shell.execute_reply": "2023-04-06T07:55:29.178171Z"
    },
    "papermill": {
     "duration": 0.202141,
     "end_time": "2023-04-06T07:55:29.183186",
     "exception": false,
     "start_time": "2023-04-06T07:55:28.981045",
     "status": "completed"
    },
    "tags": []
   },
   "outputs": [],
   "source": [
    "model=keras.models.Sequential([keras.layers.Input(shape=(1,)),keras.layers.Dense(1)])"
   ]
  },
  {
   "cell_type": "code",
   "execution_count": 14,
   "id": "16edbe39",
   "metadata": {
    "execution": {
     "iopub.execute_input": "2023-04-06T07:55:29.201530Z",
     "iopub.status.busy": "2023-04-06T07:55:29.200237Z",
     "iopub.status.idle": "2023-04-06T07:55:29.222179Z",
     "shell.execute_reply": "2023-04-06T07:55:29.220684Z"
    },
    "papermill": {
     "duration": 0.034551,
     "end_time": "2023-04-06T07:55:29.225477",
     "exception": false,
     "start_time": "2023-04-06T07:55:29.190926",
     "status": "completed"
    },
    "tags": []
   },
   "outputs": [],
   "source": [
    "model.compile(optimizer=keras.optimizers.SGD(0.001, 0.9),loss='mse')"
   ]
  },
  {
   "cell_type": "code",
   "execution_count": 15,
   "id": "2bbf6f6d",
   "metadata": {
    "execution": {
     "iopub.execute_input": "2023-04-06T07:55:29.243344Z",
     "iopub.status.busy": "2023-04-06T07:55:29.242851Z",
     "iopub.status.idle": "2023-04-06T07:55:29.249884Z",
     "shell.execute_reply": "2023-04-06T07:55:29.248214Z"
    },
    "papermill": {
     "duration": 0.01908,
     "end_time": "2023-04-06T07:55:29.252589",
     "exception": false,
     "start_time": "2023-04-06T07:55:29.233509",
     "status": "completed"
    },
    "tags": []
   },
   "outputs": [],
   "source": [
    "def schedule(epoch, lr):   \n",
    "  if epoch >= 50:\n",
    "    return 0.0001\n",
    "  return 0.001\n",
    "\n",
    "scheduler = keras.callbacks.LearningRateScheduler(schedule)"
   ]
  },
  {
   "cell_type": "code",
   "execution_count": 16,
   "id": "ff95154f",
   "metadata": {
    "execution": {
     "iopub.execute_input": "2023-04-06T07:55:29.270721Z",
     "iopub.status.busy": "2023-04-06T07:55:29.269510Z",
     "iopub.status.idle": "2023-04-06T07:55:31.876928Z",
     "shell.execute_reply": "2023-04-06T07:55:31.875177Z"
    },
    "papermill": {
     "duration": 2.620291,
     "end_time": "2023-04-06T07:55:31.880581",
     "exception": false,
     "start_time": "2023-04-06T07:55:29.260290",
     "status": "completed"
    },
    "tags": []
   },
   "outputs": [
    {
     "name": "stdout",
     "output_type": "stream",
     "text": [
      "Epoch 1/100\n",
      "6/6 [==============================] - 0s 3ms/step - loss: 524.5478 - lr: 0.0010\n",
      "Epoch 2/100\n",
      "6/6 [==============================] - 0s 2ms/step - loss: 335.1998 - lr: 0.0010\n",
      "Epoch 3/100\n",
      "6/6 [==============================] - 0s 2ms/step - loss: 266.6078 - lr: 0.0010\n",
      "Epoch 4/100\n",
      "6/6 [==============================] - 0s 2ms/step - loss: 592.1062 - lr: 0.0010\n",
      "Epoch 5/100\n",
      "6/6 [==============================] - 0s 2ms/step - loss: 571.0915 - lr: 0.0010\n",
      "Epoch 6/100\n",
      "6/6 [==============================] - 0s 2ms/step - loss: 364.1753 - lr: 0.0010\n",
      "Epoch 7/100\n",
      "6/6 [==============================] - 0s 2ms/step - loss: 277.0977 - lr: 0.0010\n",
      "Epoch 8/100\n",
      "6/6 [==============================] - 0s 2ms/step - loss: 170.2886 - lr: 0.0010\n",
      "Epoch 9/100\n",
      "6/6 [==============================] - 0s 2ms/step - loss: 77.9490 - lr: 0.0010\n",
      "Epoch 10/100\n",
      "6/6 [==============================] - 0s 2ms/step - loss: 66.7097 - lr: 0.0010\n",
      "Epoch 11/100\n",
      "6/6 [==============================] - 0s 2ms/step - loss: 47.9587 - lr: 0.0010\n",
      "Epoch 12/100\n",
      "6/6 [==============================] - 0s 2ms/step - loss: 38.8429 - lr: 0.0010\n",
      "Epoch 13/100\n",
      "6/6 [==============================] - 0s 2ms/step - loss: 19.3186 - lr: 0.0010\n",
      "Epoch 14/100\n",
      "6/6 [==============================] - 0s 2ms/step - loss: 19.7251 - lr: 0.0010\n",
      "Epoch 15/100\n",
      "6/6 [==============================] - 0s 2ms/step - loss: 16.1071 - lr: 0.0010\n",
      "Epoch 16/100\n",
      "6/6 [==============================] - 0s 3ms/step - loss: 16.4760 - lr: 0.0010\n",
      "Epoch 17/100\n",
      "6/6 [==============================] - 0s 2ms/step - loss: 8.0274 - lr: 0.0010\n",
      "Epoch 18/100\n",
      "6/6 [==============================] - 0s 2ms/step - loss: 5.1998 - lr: 0.0010\n",
      "Epoch 19/100\n",
      "6/6 [==============================] - 0s 3ms/step - loss: 4.1080 - lr: 0.0010\n",
      "Epoch 20/100\n",
      "6/6 [==============================] - 0s 2ms/step - loss: 2.9147 - lr: 0.0010\n",
      "Epoch 21/100\n",
      "6/6 [==============================] - 0s 2ms/step - loss: 1.9986 - lr: 0.0010\n",
      "Epoch 22/100\n",
      "6/6 [==============================] - 0s 2ms/step - loss: 1.9458 - lr: 0.0010\n",
      "Epoch 23/100\n",
      "6/6 [==============================] - 0s 2ms/step - loss: 1.6015 - lr: 0.0010\n",
      "Epoch 24/100\n",
      "6/6 [==============================] - 0s 2ms/step - loss: 1.6694 - lr: 0.0010\n",
      "Epoch 25/100\n",
      "6/6 [==============================] - 0s 2ms/step - loss: 1.5629 - lr: 0.0010\n",
      "Epoch 26/100\n",
      "6/6 [==============================] - 0s 2ms/step - loss: 1.3730 - lr: 0.0010\n",
      "Epoch 27/100\n",
      "6/6 [==============================] - 0s 2ms/step - loss: 1.3897 - lr: 0.0010\n",
      "Epoch 28/100\n",
      "6/6 [==============================] - 0s 2ms/step - loss: 1.1549 - lr: 0.0010\n",
      "Epoch 29/100\n",
      "6/6 [==============================] - 0s 2ms/step - loss: 1.0165 - lr: 0.0010\n",
      "Epoch 30/100\n",
      "6/6 [==============================] - 0s 2ms/step - loss: 1.1055 - lr: 0.0010\n",
      "Epoch 31/100\n",
      "6/6 [==============================] - 0s 2ms/step - loss: 0.9923 - lr: 0.0010\n",
      "Epoch 32/100\n",
      "6/6 [==============================] - 0s 2ms/step - loss: 0.9686 - lr: 0.0010\n",
      "Epoch 33/100\n",
      "6/6 [==============================] - 0s 2ms/step - loss: 1.0891 - lr: 0.0010\n",
      "Epoch 34/100\n",
      "6/6 [==============================] - 0s 2ms/step - loss: 1.0665 - lr: 0.0010\n",
      "Epoch 35/100\n",
      "6/6 [==============================] - 0s 2ms/step - loss: 0.9612 - lr: 0.0010\n",
      "Epoch 36/100\n",
      "6/6 [==============================] - 0s 2ms/step - loss: 0.8752 - lr: 0.0010\n",
      "Epoch 37/100\n",
      "6/6 [==============================] - 0s 2ms/step - loss: 1.0143 - lr: 0.0010\n",
      "Epoch 38/100\n",
      "6/6 [==============================] - 0s 2ms/step - loss: 1.0683 - lr: 0.0010\n",
      "Epoch 39/100\n",
      "6/6 [==============================] - 0s 2ms/step - loss: 1.0862 - lr: 0.0010\n",
      "Epoch 40/100\n",
      "6/6 [==============================] - 0s 2ms/step - loss: 1.0640 - lr: 0.0010\n",
      "Epoch 41/100\n",
      "6/6 [==============================] - 0s 2ms/step - loss: 1.3692 - lr: 0.0010\n",
      "Epoch 42/100\n",
      "6/6 [==============================] - 0s 2ms/step - loss: 0.8937 - lr: 0.0010\n",
      "Epoch 43/100\n",
      "6/6 [==============================] - 0s 2ms/step - loss: 0.9618 - lr: 0.0010\n",
      "Epoch 44/100\n",
      "6/6 [==============================] - 0s 2ms/step - loss: 0.9751 - lr: 0.0010\n",
      "Epoch 45/100\n",
      "6/6 [==============================] - 0s 2ms/step - loss: 0.9868 - lr: 0.0010\n",
      "Epoch 46/100\n",
      "6/6 [==============================] - 0s 2ms/step - loss: 0.9939 - lr: 0.0010\n",
      "Epoch 47/100\n",
      "6/6 [==============================] - 0s 2ms/step - loss: 0.9730 - lr: 0.0010\n",
      "Epoch 48/100\n",
      "6/6 [==============================] - 0s 2ms/step - loss: 1.0447 - lr: 0.0010\n",
      "Epoch 49/100\n",
      "6/6 [==============================] - 0s 2ms/step - loss: 1.0200 - lr: 0.0010\n",
      "Epoch 50/100\n",
      "6/6 [==============================] - 0s 2ms/step - loss: 1.0306 - lr: 0.0010\n",
      "Epoch 51/100\n",
      "6/6 [==============================] - 0s 2ms/step - loss: 1.5072 - lr: 1.0000e-04\n",
      "Epoch 52/100\n",
      "6/6 [==============================] - 0s 2ms/step - loss: 1.2419 - lr: 1.0000e-04\n",
      "Epoch 53/100\n",
      "6/6 [==============================] - 0s 2ms/step - loss: 0.9480 - lr: 1.0000e-04\n",
      "Epoch 54/100\n",
      "6/6 [==============================] - 0s 2ms/step - loss: 0.8893 - lr: 1.0000e-04\n",
      "Epoch 55/100\n",
      "6/6 [==============================] - 0s 2ms/step - loss: 0.9539 - lr: 1.0000e-04\n",
      "Epoch 56/100\n",
      "6/6 [==============================] - 0s 2ms/step - loss: 0.9527 - lr: 1.0000e-04\n",
      "Epoch 57/100\n",
      "6/6 [==============================] - 0s 2ms/step - loss: 0.8718 - lr: 1.0000e-04\n",
      "Epoch 58/100\n",
      "6/6 [==============================] - 0s 2ms/step - loss: 0.8884 - lr: 1.0000e-04\n",
      "Epoch 59/100\n",
      "6/6 [==============================] - 0s 2ms/step - loss: 0.8824 - lr: 1.0000e-04\n",
      "Epoch 60/100\n",
      "6/6 [==============================] - 0s 2ms/step - loss: 0.8733 - lr: 1.0000e-04\n",
      "Epoch 61/100\n",
      "6/6 [==============================] - 0s 2ms/step - loss: 0.8709 - lr: 1.0000e-04\n",
      "Epoch 62/100\n",
      "6/6 [==============================] - 0s 3ms/step - loss: 1.0263 - lr: 1.0000e-04\n",
      "Epoch 63/100\n",
      "6/6 [==============================] - 0s 2ms/step - loss: 1.1570 - lr: 1.0000e-04\n",
      "Epoch 64/100\n",
      "6/6 [==============================] - 0s 2ms/step - loss: 0.8888 - lr: 1.0000e-04\n",
      "Epoch 65/100\n",
      "6/6 [==============================] - 0s 2ms/step - loss: 0.9524 - lr: 1.0000e-04\n",
      "Epoch 66/100\n",
      "6/6 [==============================] - 0s 2ms/step - loss: 0.9455 - lr: 1.0000e-04\n",
      "Epoch 67/100\n",
      "6/6 [==============================] - 0s 2ms/step - loss: 0.8782 - lr: 1.0000e-04\n",
      "Epoch 68/100\n",
      "6/6 [==============================] - 0s 2ms/step - loss: 0.8817 - lr: 1.0000e-04\n",
      "Epoch 69/100\n",
      "6/6 [==============================] - 0s 2ms/step - loss: 0.9169 - lr: 1.0000e-04\n",
      "Epoch 70/100\n",
      "6/6 [==============================] - 0s 2ms/step - loss: 1.0420 - lr: 1.0000e-04\n",
      "Epoch 71/100\n",
      "6/6 [==============================] - 0s 2ms/step - loss: 0.9512 - lr: 1.0000e-04\n",
      "Epoch 72/100\n",
      "6/6 [==============================] - 0s 2ms/step - loss: 1.0508 - lr: 1.0000e-04\n",
      "Epoch 73/100\n",
      "6/6 [==============================] - 0s 2ms/step - loss: 1.2476 - lr: 1.0000e-04\n",
      "Epoch 74/100\n",
      "6/6 [==============================] - 0s 2ms/step - loss: 0.9553 - lr: 1.0000e-04\n",
      "Epoch 75/100\n",
      "6/6 [==============================] - 0s 2ms/step - loss: 0.8746 - lr: 1.0000e-04\n",
      "Epoch 76/100\n",
      "6/6 [==============================] - 0s 2ms/step - loss: 0.8938 - lr: 1.0000e-04\n",
      "Epoch 77/100\n",
      "6/6 [==============================] - 0s 3ms/step - loss: 0.9017 - lr: 1.0000e-04\n",
      "Epoch 78/100\n",
      "6/6 [==============================] - 0s 3ms/step - loss: 0.8851 - lr: 1.0000e-04\n",
      "Epoch 79/100\n",
      "6/6 [==============================] - 0s 3ms/step - loss: 0.9962 - lr: 1.0000e-04\n",
      "Epoch 80/100\n",
      "6/6 [==============================] - 0s 3ms/step - loss: 0.9265 - lr: 1.0000e-04\n",
      "Epoch 81/100\n",
      "6/6 [==============================] - 0s 2ms/step - loss: 0.8762 - lr: 1.0000e-04\n",
      "Epoch 82/100\n",
      "6/6 [==============================] - 0s 2ms/step - loss: 0.9074 - lr: 1.0000e-04\n",
      "Epoch 83/100\n",
      "6/6 [==============================] - 0s 2ms/step - loss: 0.8867 - lr: 1.0000e-04\n",
      "Epoch 84/100\n",
      "6/6 [==============================] - 0s 2ms/step - loss: 1.0936 - lr: 1.0000e-04\n",
      "Epoch 85/100\n",
      "6/6 [==============================] - 0s 3ms/step - loss: 0.9677 - lr: 1.0000e-04\n",
      "Epoch 86/100\n",
      "6/6 [==============================] - 0s 2ms/step - loss: 0.8990 - lr: 1.0000e-04\n",
      "Epoch 87/100\n",
      "6/6 [==============================] - 0s 3ms/step - loss: 0.8985 - lr: 1.0000e-04\n",
      "Epoch 88/100\n",
      "6/6 [==============================] - 0s 3ms/step - loss: 0.8746 - lr: 1.0000e-04\n",
      "Epoch 89/100\n",
      "6/6 [==============================] - 0s 3ms/step - loss: 0.8824 - lr: 1.0000e-04\n",
      "Epoch 90/100\n",
      "6/6 [==============================] - 0s 3ms/step - loss: 0.8831 - lr: 1.0000e-04\n",
      "Epoch 91/100\n",
      "6/6 [==============================] - 0s 2ms/step - loss: 0.8824 - lr: 1.0000e-04\n",
      "Epoch 92/100\n",
      "6/6 [==============================] - 0s 5ms/step - loss: 0.8802 - lr: 1.0000e-04\n",
      "Epoch 93/100\n",
      "6/6 [==============================] - 0s 2ms/step - loss: 0.8742 - lr: 1.0000e-04\n",
      "Epoch 94/100\n",
      "6/6 [==============================] - 0s 3ms/step - loss: 0.8802 - lr: 1.0000e-04\n",
      "Epoch 95/100\n",
      "6/6 [==============================] - 0s 3ms/step - loss: 0.8762 - lr: 1.0000e-04\n",
      "Epoch 96/100\n",
      "6/6 [==============================] - 0s 3ms/step - loss: 0.8850 - lr: 1.0000e-04\n",
      "Epoch 97/100\n",
      "6/6 [==============================] - 0s 2ms/step - loss: 0.8757 - lr: 1.0000e-04\n",
      "Epoch 98/100\n",
      "6/6 [==============================] - 0s 2ms/step - loss: 0.8791 - lr: 1.0000e-04\n",
      "Epoch 99/100\n",
      "6/6 [==============================] - 0s 5ms/step - loss: 0.8732 - lr: 1.0000e-04\n",
      "Epoch 100/100\n",
      "6/6 [==============================] - 0s 2ms/step - loss: 0.8747 - lr: 1.0000e-04\n"
     ]
    }
   ],
   "source": [
    "train=model.fit(x,y,epochs=100,verbose=1,callbacks=[scheduler])"
   ]
  },
  {
   "cell_type": "code",
   "execution_count": 17,
   "id": "1fccc953",
   "metadata": {
    "execution": {
     "iopub.execute_input": "2023-04-06T07:55:31.936435Z",
     "iopub.status.busy": "2023-04-06T07:55:31.935895Z",
     "iopub.status.idle": "2023-04-06T07:55:32.171537Z",
     "shell.execute_reply": "2023-04-06T07:55:32.170050Z"
    },
    "papermill": {
     "duration": 0.266813,
     "end_time": "2023-04-06T07:55:32.174500",
     "exception": false,
     "start_time": "2023-04-06T07:55:31.907687",
     "status": "completed"
    },
    "tags": []
   },
   "outputs": [
    {
     "name": "stdout",
     "output_type": "stream",
     "text": [
      "6/6 [==============================] - 0s 3ms/step - loss: 0.8741\n"
     ]
    },
    {
     "data": {
      "text/plain": [
       "0.8740618228912354"
      ]
     },
     "execution_count": 17,
     "metadata": {},
     "output_type": "execute_result"
    }
   ],
   "source": [
    "model.evaluate(x,y)"
   ]
  },
  {
   "cell_type": "code",
   "execution_count": 18,
   "id": "a65d393f",
   "metadata": {
    "execution": {
     "iopub.execute_input": "2023-04-06T07:55:32.230418Z",
     "iopub.status.busy": "2023-04-06T07:55:32.229042Z",
     "iopub.status.idle": "2023-04-06T07:55:32.744870Z",
     "shell.execute_reply": "2023-04-06T07:55:32.743405Z"
    },
    "papermill": {
     "duration": 0.547494,
     "end_time": "2023-04-06T07:55:32.748348",
     "exception": false,
     "start_time": "2023-04-06T07:55:32.200854",
     "status": "completed"
    },
    "tags": []
   },
   "outputs": [
    {
     "data": {
      "text/plain": [
       "[<matplotlib.lines.Line2D at 0x7824c1738890>]"
      ]
     },
     "execution_count": 18,
     "metadata": {},
     "output_type": "execute_result"
    },
    {
     "data": {
      "image/png": "[encoded data removed]",
      "text/plain": [
       "<Figure size 640x480 with 1 Axes>"
      ]
     },
     "metadata": {},
     "output_type": "display_data"
    }
   ],
   "source": [
    "plt.plot(train.history['loss'], label='loss')"
   ]
  },
  {
   "cell_type": "code",
   "execution_count": null,
   "id": "b70cdede",
   "metadata": {
    "papermill": {
     "duration": 0.026746,
     "end_time": "2023-04-06T07:55:32.802544",
     "exception": false,
     "start_time": "2023-04-06T07:55:32.775798",
     "status": "completed"
    },
    "tags": []
   },
   "outputs": [],
   "source": []
  }
 ],
 "metadata": {
  "kernelspec": {
   "display_name": "Python 3",
   "language": "python",
   "name": "python3"
  },
  "language_info": {
   "codemirror_mode": {
    "name": "ipython",
    "version": 3
   },
   "file_extension": ".py",
   "mimetype": "text/x-python",
   "name": "python",
   "nbconvert_exporter": "python",
   "pygments_lexer": "ipython3",
   "version": "3.7.12"
  },
  "papermill": {
   "default_parameters": {},
   "duration": 29.969837,
   "end_time": "2023-04-06T07:55:36.072651",
   "environment_variables": {},
   "exception": null,
   "input_path": "__notebook__.ipynb",
   "output_path": "__notebook__.ipynb",
   "parameters": {},
   "start_time": "2023-04-06T07:55:06.102814",
   "version": "2.4.0"
  }
 },
 "nbformat": 4,
 "nbformat_minor": 5
}
